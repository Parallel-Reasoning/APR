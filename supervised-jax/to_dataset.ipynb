{
 "cells": [
  {
   "cell_type": "code",
   "execution_count": 1,
   "metadata": {},
   "outputs": [],
   "source": [
    "import json, os\n",
    "from google.cloud import storage\n",
    "import os\n",
    "os.environ[\"GOOGLE_APPLICATION_CREDENTIALS\"] = \"CREDENTIALS_PATH\" # TODO: replace with your own credentials path\n",
    "# Upload to GCS\n",
    "bucket_name = \"BUCKET_NAME\" # TODO: replace with your own bucket name\n",
    "local_dir = \"LOCAL_DIR\" # TODO: replace with your own local directory\n",
    "prefix = \"PREFIX\" # TODO: replace with your own prefix"
   ]
  },
  {
   "cell_type": "code",
   "execution_count": 5,
   "metadata": {},
   "outputs": [],
   "source": [
    "def process_to_gcp(file_path, name):\n",
    "    # load \n",
    "    with open(file_path, 'r') as f:\n",
    "        data = json.load(f)\n",
    "\n",
    "    # get all seqs\n",
    "    if \"hsp\" not in name:\n",
    "        seqs = [d['search_path'] for d in data]\n",
    "    else:\n",
    "        def add_all_calls(trace_dict):\n",
    "            all_calls = []\n",
    "            all_calls += trace_dict['main_calls']\n",
    "            for sub in trace_dict['sub_calls']:\n",
    "                for sub_trace in sub:\n",
    "                    all_calls += add_all_calls(sub_trace)\n",
    "            return all_calls\n",
    "        seqs = []\n",
    "        for dp in data:\n",
    "            seqs += add_all_calls(dp['trace_dict'])\n",
    "    print(f\"name: {len(seqs)}\")\n",
    "\n",
    "    # local save\n",
    "    os.makedirs(local_dir, exist_ok=True)\n",
    "    local_path = os.path.join(local_dir, f\"{name}.json\")\n",
    "    with open(local_path, \"w\") as f:\n",
    "        json.dump(seqs, f)\n",
    "\n",
    "    # send to gcp\n",
    "    storage_client = storage.Client()\n",
    "    bucket = storage_client.bucket(bucket_name)\n",
    "    # # Upload train file\n",
    "    train_blob = bucket.blob(prefix+f\"{name}.json\")\n",
    "    train_blob.upload_from_filename(local_path)"
   ]
  },
  {
   "cell_type": "code",
   "execution_count": 6,
   "metadata": {},
   "outputs": [],
   "source": [
    "todos = [\n",
    "    [\"./train_apr.json\", \"train_apr\"],\n",
    "    # TODO: add your own data here\n",
    "]"
   ]
  },
  {
   "cell_type": "code",
   "execution_count": null,
   "metadata": {},
   "outputs": [],
   "source": [
    "from tqdm import tqdm\n",
    "for file_path, name in tqdm(todos):\n",
    "    process_to_gcp(file_path, name)"
   ]
  }
 ],
 "metadata": {
  "kernelspec": {
   "display_name": "GPML",
   "language": "python",
   "name": "python3"
  },
  "language_info": {
   "codemirror_mode": {
    "name": "ipython",
    "version": 3
   },
   "file_extension": ".py",
   "mimetype": "text/x-python",
   "name": "python",
   "nbconvert_exporter": "python",
   "pygments_lexer": "ipython3",
   "version": "3.10.14"
  }
 },
 "nbformat": 4,
 "nbformat_minor": 2
}
